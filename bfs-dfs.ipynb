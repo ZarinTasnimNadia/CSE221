{
 "cells": [
  {
   "cell_type": "code",
   "execution_count": null,
   "id": "50fc2cdc",
   "metadata": {},
   "outputs": [],
   "source": []
  },
  {
   "cell_type": "code",
   "execution_count": 1,
   "id": "4c5954cf",
   "metadata": {},
   "outputs": [],
   "source": [
    "from collections import deque\n",
    "def bfs(graph):\n",
    "    color = [\"white\"]*len(graph)\n",
    "    que = deque()\n",
    "    traversal = []\n",
    "    que.append(1)\n",
    "    color[1] = \"grey\"\n",
    "    \n",
    "    while que:\n",
    "        u = que.popleft()\n",
    "        traversal.append(u)\n",
    "        for i in graph[u]:\n",
    "            if color[i] == \"white\":\n",
    "                color[i] = \"grey\"\n",
    "                que.append(i)\n",
    "                \n",
    "        color[u] = \"black\"            \n",
    "    return traversal            \n",
    "               "
   ]
  },
  {
   "cell_type": "code",
   "execution_count": 2,
   "id": "59c98711",
   "metadata": {},
   "outputs": [],
   "source": [
    "def dfs(graph):\n",
    "    pass"
   ]
  },
  {
   "cell_type": "code",
   "execution_count": null,
   "id": "0cf85bdb",
   "metadata": {},
   "outputs": [],
   "source": [
    "#input 1\n",
    "import sys\n",
    "\n",
    "n, m = map(int, sys.stdin.readline().split())\n",
    "graph = [[] for i in range(n+1)]\n",
    "for j in range(m):\n",
    "    u, v = map(int, sys.stdin.readline().split())\n",
    "    graph[u].append(v)\n",
    "    graph[v].append(u)\n",
    "\n",
    "for neighbours in graph:\n",
    "    neighbours.sort()\n",
    "    \n",
    "ans = bfs(graph)\n",
    "print(*ans)    \n"
   ]
  },
  {
   "cell_type": "code",
   "execution_count": null,
   "id": "e8f0d596",
   "metadata": {},
   "outputs": [],
   "source": [
    "#input 2\n",
    "n, m = map(int, sys.stdin.readline().split())\n",
    "u = list(map(int, sys.stdin.readline().split()))\n",
    "v = list(map(int, sys.stdin.readline().split()))\n",
    "\n",
    "graph = [[] for i in range(n+1)]\n",
    "\n",
    "for j in range(m):\n",
    "    graph[u[j]].append(v[j])\n",
    "    graph[v[j]].append(u[j])\n",
    "    \n",
    "for neighbours in graph:\n",
    "    neighbours.sort()\n",
    "    \n",
    "print(graph)    "
   ]
  }
 ],
 "metadata": {
  "kernelspec": {
   "display_name": "Python 3",
   "language": "python",
   "name": "python3"
  },
  "language_info": {
   "codemirror_mode": {
    "name": "ipython",
    "version": 3
   },
   "file_extension": ".py",
   "mimetype": "text/x-python",
   "name": "python",
   "nbconvert_exporter": "python",
   "pygments_lexer": "ipython3",
   "version": "3.12.0"
  }
 },
 "nbformat": 4,
 "nbformat_minor": 5
}
