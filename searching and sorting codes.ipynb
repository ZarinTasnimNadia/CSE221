{
 "cells": [
  {
   "cell_type": "markdown",
   "metadata": {},
   "source": [
    "SEARCHING"
   ]
  },
  {
   "cell_type": "markdown",
   "metadata": {},
   "source": [
    "--- Linear Search ---"
   ]
  },
  {
   "cell_type": "code",
   "execution_count": 1,
   "metadata": {},
   "outputs": [],
   "source": [
    "def linearSearch(key, array):\n",
    "    i = 0\n",
    "    while i < len(array):\n",
    "        if array[i] == key:\n",
    "            return i\n",
    "        i += 1\n",
    "        \n",
    "    return \"value does not exist in the array\"    "
   ]
  },
  {
   "cell_type": "markdown",
   "metadata": {},
   "source": [
    "--- Binary Search ---"
   ]
  },
  {
   "cell_type": "markdown",
   "metadata": {},
   "source": [
    "--iterative--"
   ]
  },
  {
   "cell_type": "code",
   "execution_count": 2,
   "metadata": {},
   "outputs": [],
   "source": [
    "def binarySearch(key, array, st, end):\n",
    "    \n",
    "    while st <= end:\n",
    "        mid = (st + end) // 2\n",
    "        \n",
    "        if array[mid] == key:\n",
    "            return mid\n",
    "        if array[mid] > key:\n",
    "            end = mid - 1\n",
    "        if array[mid] < key:\n",
    "            st = mid + 1    \n",
    "\n",
    "    return \"value does not exist in the array\""
   ]
  },
  {
   "cell_type": "markdown",
   "metadata": {},
   "source": [
    "--recursive--"
   ]
  },
  {
   "cell_type": "code",
   "execution_count": 3,
   "metadata": {},
   "outputs": [],
   "source": [
    "def binarySearch2(key, array, st, end):\n",
    "    \n",
    "    \n",
    "    if st > end:\n",
    "        return \"value does not exist in the array\"\n",
    "    \n",
    "    mid = (st + end) // 2\n",
    "    \n",
    "    if array[mid] == key:\n",
    "        return mid\n",
    "    if array[mid] > key:\n",
    "        return binarySearch2(key, array, st, mid)\n",
    "    \n",
    "    return binarySearch2(key, array, mid+1, end)\n",
    "        \n",
    "       "
   ]
  },
  {
   "cell_type": "markdown",
   "metadata": {},
   "source": [
    "--- Ternary Search ---"
   ]
  },
  {
   "cell_type": "code",
   "execution_count": 4,
   "metadata": {},
   "outputs": [],
   "source": [
    "def ternarySearch(key, array, st, end):\n",
    "    \n",
    "    if st > end:\n",
    "        return \"value does not exist in the array\"\n",
    "    \n",
    "    mid1 = st + ((end - st)//3)\n",
    "    mid2 = end - ((end - st)//3)\n",
    "    \n",
    "    if array[mid1] == key:\n",
    "        return mid1\n",
    "    elif array[mid2] == key:\n",
    "        return mid2\n",
    "    \n",
    "    elif array[mid1] > key:\n",
    "        return ternarySearch(key, array, st, mid1 - 1)\n",
    "    elif array[mid2] < key:\n",
    "        return ternarySearch(key, array, mid2 + 1, end)\n",
    "    else:\n",
    "        return ternarySearch(key, array, mid1 + 1, mid2 - 1)    "
   ]
  },
  {
   "cell_type": "markdown",
   "metadata": {},
   "source": [
    "Searching Sample"
   ]
  },
  {
   "cell_type": "code",
   "execution_count": 5,
   "metadata": {},
   "outputs": [
    {
     "name": "stdout",
     "output_type": "stream",
     "text": [
      "2\n",
      "value does not exist in the array\n",
      "6\n",
      "1\n"
     ]
    }
   ],
   "source": [
    "array = [1, 2, 3, 4, 5, 6, 7]\n",
    "print(linearSearch(3, array))\n",
    "print(binarySearch(888888888888888888888888888888888888, array, 0, len(array) - 1))\n",
    "print(binarySearch2(7, array, 0, len(array) - 1))\n",
    "print(ternarySearch(2, array, 0, len(array) - 1))"
   ]
  },
  {
   "cell_type": "markdown",
   "metadata": {},
   "source": [
    "SORTING"
   ]
  },
  {
   "cell_type": "markdown",
   "metadata": {},
   "source": [
    "--- Merge Sort ---"
   ]
  },
  {
   "cell_type": "code",
   "execution_count": 6,
   "metadata": {},
   "outputs": [],
   "source": [
    "def mergeSort(array):\n",
    "    \n",
    "    n = len(array)\n",
    "    \n",
    "    if n <= 1:\n",
    "        return array\n",
    "    \n",
    "    mid = n//2\n",
    "    left = array[0: mid]\n",
    "    right = array[mid: ]\n",
    "    \n",
    "    left = mergeSort(left)\n",
    "    right = mergeSort(right)\n",
    "    ans = merge(left, right)\n",
    "    return ans    \n",
    "        \n",
    " \n",
    "def merge(arr1, arr2):\n",
    "    i, j = 0, 0\n",
    "    merged = []\n",
    "    \n",
    "    while i < len(arr1) and j < len(arr2):\n",
    "        if arr1[i] < arr2[j]:\n",
    "            merged.append(arr1[i])\n",
    "            i += 1\n",
    "            \n",
    "        else:\n",
    "            merged.append(arr2[j]) \n",
    "            j += 1\n",
    "            \n",
    "    while i < len(arr1):\n",
    "        merged.append(arr1[i])\n",
    "        i += 1\n",
    "        \n",
    "    while j < len(arr2):\n",
    "        merged.append(arr2[j])\n",
    "        j += 1\n",
    "        \n",
    "    return merged    \n",
    "                    \n"
   ]
  },
  {
   "cell_type": "markdown",
   "metadata": {},
   "source": [
    "--- Quick Sort ---"
   ]
  },
  {
   "cell_type": "code",
   "execution_count": 7,
   "metadata": {},
   "outputs": [],
   "source": [
    "def quickSort(arr, low, high):\n",
    "    if low < high:\n",
    "        j = partition(arr, low, high)\n",
    "        quickSort(arr, low, j - 1)\n",
    "        quickSort(arr, j + 1, high)\n",
    "    return arr    \n",
    "\n",
    "\n",
    "        \n",
    "def partition(arr, low, high):\n",
    "    \n",
    "    pivot = arr[low] \n",
    "    i, j = low + 1, high\n",
    "    \n",
    "    while i <= j:\n",
    "        while i <= high and arr[i] <= pivot:\n",
    "            i += 1\n",
    "            \n",
    "        while j >= low and arr[j] > pivot:\n",
    "            j -= 1\n",
    "        \n",
    "        if i < j:    \n",
    "            arr[i], arr[j] = arr[j], arr[i]\n",
    "        \n",
    "        \n",
    "    arr[low], arr[j] = arr[j], arr[low]\n",
    "    return j        \n",
    "        \n",
    " # def medianOfthree(arr, low, high):\n",
    "    \n",
    "#     pivot = (low + high)//2\n",
    "#     if arr[low] <= arr[pivot] <= arr[high]:\n",
    "#         return\n",
    "#     if arr[low] < arr[pivot] > arr[high]:\n",
    "#         arr[low], arr[pivot], arr[]   \n",
    "    "
   ]
  },
  {
   "cell_type": "code",
   "execution_count": 8,
   "metadata": {},
   "outputs": [
    {
     "name": "stdout",
     "output_type": "stream",
     "text": [
      "[2, 3, 3, 6, 7, 9, 10]\n",
      "[2, 3, 3, 6, 7, 9, 10]\n"
     ]
    }
   ],
   "source": [
    "\n",
    "array2 = [7, 3, 6, 2, 9, 10, 3]\n",
    "print(mergeSort(array2))\n",
    "print(quickSort(array2, 0, len(array) - 1))"
   ]
  }
 ],
 "metadata": {
  "kernelspec": {
   "display_name": "Python 3",
   "language": "python",
   "name": "python3"
  },
  "language_info": {
   "codemirror_mode": {
    "name": "ipython",
    "version": 3
   },
   "file_extension": ".py",
   "mimetype": "text/x-python",
   "name": "python",
   "nbconvert_exporter": "python",
   "pygments_lexer": "ipython3",
   "version": "3.12.0"
  }
 },
 "nbformat": 4,
 "nbformat_minor": 2
}
